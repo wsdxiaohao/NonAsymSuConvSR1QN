{
 "cells": [
  {
   "cell_type": "markdown",
   "id": "964d3b39",
   "metadata": {},
   "source": [
    "### Logistic problem\n",
    "### $$ \\min_x \\frac{1}{M} \\sum_{i=1}^{M}\\log[1+\\exp{(-b_ia_i^\\top x)}]+\\frac{\\mu}{2}\\vert\\vert x\\vert\\vert^2 $$\n",
    "### where $a_1, a_2, \\cdots, a_m\\in R^n$, $b_1, b_2, \\cdots, b_m\\in R$ and $\\gamma>0$. We notice that the Lipschitz constant $L=$  "
   ]
  },
  {
   "cell_type": "code",
   "execution_count": 1,
   "id": "186b6cb6",
   "metadata": {},
   "outputs": [],
   "source": [
    "# First we import some useful packages. Don't import any other package.\n",
    "import numpy as np\n",
    "import matplotlib.pyplot as plt\n",
    "import time as clock"
   ]
  },
  {
   "cell_type": "code",
   "execution_count": 2,
   "id": "42ca1005",
   "metadata": {},
   "outputs": [],
   "source": [
    "from libsvm.svmutil import *"
   ]
  },
  {
   "cell_type": "code",
   "execution_count": 3,
   "id": "dc9ddf93",
   "metadata": {},
   "outputs": [
    {
     "data": {
      "text/html": [
       "<div>\n",
       "<style scoped>\n",
       "    .dataframe tbody tr th:only-of-type {\n",
       "        vertical-align: middle;\n",
       "    }\n",
       "\n",
       "    .dataframe tbody tr th {\n",
       "        vertical-align: top;\n",
       "    }\n",
       "\n",
       "    .dataframe thead th {\n",
       "        text-align: right;\n",
       "    }\n",
       "</style>\n",
       "<table border=\"1\" class=\"dataframe\">\n",
       "  <thead>\n",
       "    <tr style=\"text-align: right;\">\n",
       "      <th></th>\n",
       "      <th>class_e</th>\n",
       "      <th>class_p</th>\n",
       "      <th>cap-shape_b</th>\n",
       "      <th>cap-shape_c</th>\n",
       "      <th>cap-shape_f</th>\n",
       "      <th>cap-shape_k</th>\n",
       "      <th>cap-shape_s</th>\n",
       "      <th>cap-shape_x</th>\n",
       "      <th>cap-surface_f</th>\n",
       "      <th>cap-surface_g</th>\n",
       "      <th>...</th>\n",
       "      <th>population_s</th>\n",
       "      <th>population_v</th>\n",
       "      <th>population_y</th>\n",
       "      <th>habitat_d</th>\n",
       "      <th>habitat_g</th>\n",
       "      <th>habitat_l</th>\n",
       "      <th>habitat_m</th>\n",
       "      <th>habitat_p</th>\n",
       "      <th>habitat_u</th>\n",
       "      <th>habitat_w</th>\n",
       "    </tr>\n",
       "  </thead>\n",
       "  <tbody>\n",
       "    <tr>\n",
       "      <th>0</th>\n",
       "      <td>False</td>\n",
       "      <td>True</td>\n",
       "      <td>False</td>\n",
       "      <td>False</td>\n",
       "      <td>False</td>\n",
       "      <td>False</td>\n",
       "      <td>False</td>\n",
       "      <td>True</td>\n",
       "      <td>False</td>\n",
       "      <td>False</td>\n",
       "      <td>...</td>\n",
       "      <td>True</td>\n",
       "      <td>False</td>\n",
       "      <td>False</td>\n",
       "      <td>False</td>\n",
       "      <td>False</td>\n",
       "      <td>False</td>\n",
       "      <td>False</td>\n",
       "      <td>False</td>\n",
       "      <td>True</td>\n",
       "      <td>False</td>\n",
       "    </tr>\n",
       "    <tr>\n",
       "      <th>1</th>\n",
       "      <td>True</td>\n",
       "      <td>False</td>\n",
       "      <td>False</td>\n",
       "      <td>False</td>\n",
       "      <td>False</td>\n",
       "      <td>False</td>\n",
       "      <td>False</td>\n",
       "      <td>True</td>\n",
       "      <td>False</td>\n",
       "      <td>False</td>\n",
       "      <td>...</td>\n",
       "      <td>False</td>\n",
       "      <td>False</td>\n",
       "      <td>False</td>\n",
       "      <td>False</td>\n",
       "      <td>True</td>\n",
       "      <td>False</td>\n",
       "      <td>False</td>\n",
       "      <td>False</td>\n",
       "      <td>False</td>\n",
       "      <td>False</td>\n",
       "    </tr>\n",
       "    <tr>\n",
       "      <th>2</th>\n",
       "      <td>True</td>\n",
       "      <td>False</td>\n",
       "      <td>True</td>\n",
       "      <td>False</td>\n",
       "      <td>False</td>\n",
       "      <td>False</td>\n",
       "      <td>False</td>\n",
       "      <td>False</td>\n",
       "      <td>False</td>\n",
       "      <td>False</td>\n",
       "      <td>...</td>\n",
       "      <td>False</td>\n",
       "      <td>False</td>\n",
       "      <td>False</td>\n",
       "      <td>False</td>\n",
       "      <td>False</td>\n",
       "      <td>False</td>\n",
       "      <td>True</td>\n",
       "      <td>False</td>\n",
       "      <td>False</td>\n",
       "      <td>False</td>\n",
       "    </tr>\n",
       "    <tr>\n",
       "      <th>3</th>\n",
       "      <td>False</td>\n",
       "      <td>True</td>\n",
       "      <td>False</td>\n",
       "      <td>False</td>\n",
       "      <td>False</td>\n",
       "      <td>False</td>\n",
       "      <td>False</td>\n",
       "      <td>True</td>\n",
       "      <td>False</td>\n",
       "      <td>False</td>\n",
       "      <td>...</td>\n",
       "      <td>True</td>\n",
       "      <td>False</td>\n",
       "      <td>False</td>\n",
       "      <td>False</td>\n",
       "      <td>False</td>\n",
       "      <td>False</td>\n",
       "      <td>False</td>\n",
       "      <td>False</td>\n",
       "      <td>True</td>\n",
       "      <td>False</td>\n",
       "    </tr>\n",
       "    <tr>\n",
       "      <th>4</th>\n",
       "      <td>True</td>\n",
       "      <td>False</td>\n",
       "      <td>False</td>\n",
       "      <td>False</td>\n",
       "      <td>False</td>\n",
       "      <td>False</td>\n",
       "      <td>False</td>\n",
       "      <td>True</td>\n",
       "      <td>False</td>\n",
       "      <td>False</td>\n",
       "      <td>...</td>\n",
       "      <td>False</td>\n",
       "      <td>False</td>\n",
       "      <td>False</td>\n",
       "      <td>False</td>\n",
       "      <td>True</td>\n",
       "      <td>False</td>\n",
       "      <td>False</td>\n",
       "      <td>False</td>\n",
       "      <td>False</td>\n",
       "      <td>False</td>\n",
       "    </tr>\n",
       "  </tbody>\n",
       "</table>\n",
       "<p>5 rows × 119 columns</p>\n",
       "</div>"
      ],
      "text/plain": [
       "   class_e  class_p  cap-shape_b  cap-shape_c  cap-shape_f  cap-shape_k  \\\n",
       "0    False     True        False        False        False        False   \n",
       "1     True    False        False        False        False        False   \n",
       "2     True    False         True        False        False        False   \n",
       "3    False     True        False        False        False        False   \n",
       "4     True    False        False        False        False        False   \n",
       "\n",
       "   cap-shape_s  cap-shape_x  cap-surface_f  cap-surface_g  ...  population_s  \\\n",
       "0        False         True          False          False  ...          True   \n",
       "1        False         True          False          False  ...         False   \n",
       "2        False        False          False          False  ...         False   \n",
       "3        False         True          False          False  ...          True   \n",
       "4        False         True          False          False  ...         False   \n",
       "\n",
       "   population_v  population_y  habitat_d  habitat_g  habitat_l  habitat_m  \\\n",
       "0         False         False      False      False      False      False   \n",
       "1         False         False      False       True      False      False   \n",
       "2         False         False      False      False      False       True   \n",
       "3         False         False      False      False      False      False   \n",
       "4         False         False      False       True      False      False   \n",
       "\n",
       "   habitat_p  habitat_u  habitat_w  \n",
       "0      False       True      False  \n",
       "1      False      False      False  \n",
       "2      False      False      False  \n",
       "3      False       True      False  \n",
       "4      False      False      False  \n",
       "\n",
       "[5 rows x 119 columns]"
      ]
     },
     "execution_count": 3,
     "metadata": {},
     "output_type": "execute_result"
    }
   ],
   "source": [
    "#import modules\n",
    "import pandas as pd\n",
    "import numpy as np\n",
    "\n",
    "#read csv to pandas dataframe\n",
    "mushrooms = pd.read_csv(\"mushrooms.csv\")\n",
    "\n",
    "#create dummy variables\n",
    "mushrooms = pd.get_dummies(mushrooms)\n",
    "\n",
    "#subset data into dependent and independent variables x,y\n",
    "LABELS = ['class_e', 'class_p']\n",
    "FEATURES = [a  for a in mushrooms.columns if a not in LABELS ]\n",
    "y = mushrooms[LABELS[0]]\n",
    "x= mushrooms[FEATURES]\n",
    "\n",
    "mushrooms.head()"
   ]
  },
  {
   "cell_type": "code",
   "execution_count": 4,
   "id": "8a4884e1",
   "metadata": {},
   "outputs": [],
   "source": [
    "A =x.to_numpy()"
   ]
  },
  {
   "cell_type": "code",
   "execution_count": 5,
   "id": "1b7a4d37",
   "metadata": {},
   "outputs": [],
   "source": [
    "b = y.to_numpy()\n",
    "b = b.reshape((len(b),1))"
   ]
  },
  {
   "cell_type": "code",
   "execution_count": null,
   "id": "b5019aef",
   "metadata": {},
   "outputs": [],
   "source": []
  },
  {
   "cell_type": "markdown",
   "id": "01180266",
   "metadata": {},
   "source": [
    "### Initialization of the model"
   ]
  },
  {
   "cell_type": "code",
   "execution_count": 6,
   "id": "f473be3f",
   "metadata": {},
   "outputs": [],
   "source": [
    " np.random.seed(0)\n",
    "\n"
   ]
  },
  {
   "cell_type": "code",
   "execution_count": 7,
   "id": "b16c1f9c",
   "metadata": {},
   "outputs": [],
   "source": [
    "mu = 1"
   ]
  },
  {
   "cell_type": "code",
   "execution_count": 8,
   "id": "0c3cff98",
   "metadata": {},
   "outputs": [],
   "source": [
    "x0 = 0*np.random.randn(117,1)"
   ]
  },
  {
   "cell_type": "code",
   "execution_count": 9,
   "id": "0a2878fe",
   "metadata": {},
   "outputs": [],
   "source": [
    "M = len(A)\n",
    "#L = 2*np.trace(A@A.T)/M+ mu\n",
    "L = 2*np.trace(A@A.T)/M+ mu\n",
    "#L = 2*np.max(np.diag(A@A.T)) + mu\n",
    "stepsize = 1/(2*L)#1/2L\n",
    "H = 2\n",
    "Model = {'A':A, 'b':b, 'mu':mu,'x':x0,'Lip':L,'H':2};\n",
    "options= {'stepsize':stepsize}"
   ]
  },
  {
   "cell_type": "markdown",
   "id": "c77974eb",
   "metadata": {},
   "source": [
    "### Algorithm"
   ]
  },
  {
   "cell_type": "code",
   "execution_count": 10,
   "id": "8403c136",
   "metadata": {},
   "outputs": [],
   "source": [
    "#Load \n",
    "from Mathtools import *\n",
    "from gradNewton import *\n",
    "from HBF import *\n",
    "from CubicNewton import *\n",
    "from CubicSR1 import *\n",
    "from GradQN import *\n",
    "from gd import *"
   ]
  },
  {
   "cell_type": "code",
   "execution_count": 11,
   "id": "ab8b1d08",
   "metadata": {},
   "outputs": [],
   "source": [
    "L\n",
    "Model['Lip'] = L"
   ]
  },
  {
   "cell_type": "code",
   "execution_count": 12,
   "id": "e46a5b17",
   "metadata": {},
   "outputs": [],
   "source": [
    "#test\n",
    "maxiter = 300#300;#500\n",
    "check = 10;#10\n",
    "tol = 0.0000000001;\n",
    "\n",
    "# taping:\n",
    "xs = [];\n",
    "rs = [];\n",
    "fs = [];\n",
    "ts = [];\n",
    "cols = [];\n",
    "legs = [];\n",
    "\n",
    "nams = [];\n",
    "\n",
    "# colors for the image\n",
    "COLSR1 = [(1,0,0,1), (1,0.5,0,1), (1,0,0.5,1), (0,0.5,0.5,1), (0.5,0.5,0,1) ]\n",
    "COLBFGS =  [(0.3,0.7,0,1), (0.7,0.2,0.3,1), (0,0,0,1), (0.5,0,0.2,1), (0.2,0.2,0.7,1) ]"
   ]
  },
  {
   "cell_type": "code",
   "execution_count": 13,
   "id": "1287e754",
   "metadata": {},
   "outputs": [],
   "source": [
    "# turn algorithms to be run on or off\n",
    "run_Cubic_Newton = 1;\n",
    "run_grad_Newton = 1;\n",
    "run_Cubic_SR1 = 1;\n",
    "\n",
    "run_grad_SR1 = 1; #grad SR1 ad\n",
    "run_HBF = 1\n",
    "run_gd = 1\n",
    "# with open('optlogis.npy', 'rb') as f:\n",
    "#      opt= np.load(f)\n",
    "# with open('logisSol.npy', 'rb') as f:\n",
    "#      x0 = np.load(f)\n",
    "np.random.seed(1)\n",
    "Model['x'] = 30*np.random.randn(len(A[0,:]),1)\n",
    "compute_optimal_value = False;\n",
    "\n",
    "\n",
    "#TOl\n",
    "tol = 1e-13\n",
    "if compute_optimal_value: # optimal solution is compyted using FISTA\n",
    "    maxiter = 10000;\n",
    "    check = 100;\n",
    "    \n",
    "    run_fista = 1;\n",
    "    run_grad_SR1_ad = 0; #grad SR1 ad\n",
    "    run_gd = 0\n",
    "    \n",
    "    \n",
    "    \n",
    "    "
   ]
  },
  {
   "cell_type": "code",
   "execution_count": 14,
   "id": "1ef01650",
   "metadata": {},
   "outputs": [
    {
     "name": "stdout",
     "output_type": "stream",
     "text": [
      "\n",
      "********************************************************\n",
      "***Cubic Newton **\n",
      "***********\n",
      "iter:10, funValue:15864.985523,fun:15864.985523\n",
      "iter:20, funValue:4736.302597,fun:4736.302597\n",
      "iter:30, funValue:842.775407,fun:842.775407\n",
      "iter:40, funValue:41.041478,fun:41.041478\n",
      "iter:50, funValue:0.529938,fun:0.529938\n",
      "iter:60, funValue:0.529911,fun:0.529911\n",
      "iter:70, funValue:0.529911,fun:0.529911\n",
      "iter:80, funValue:0.529911,fun:0.529911\n",
      "Tolerence value reached\n"
     ]
    }
   ],
   "source": [
    "#####################################################################\n",
    "if run_Cubic_Newton:\n",
    "    \n",
    "    print('');\n",
    "    print('********************************************************');\n",
    "    print('***Cubic Newton **');\n",
    "    print('***********');\n",
    "    \n",
    "    options = {\n",
    "        'init':          x0,\n",
    "        'stepsize':      stepsize,\n",
    "        'storeResidual': True,\n",
    "        'storePoints'  : False,\n",
    "        'storeObjective':True,\n",
    "        'correction':  True,\n",
    "        \n",
    "    }\n",
    "\n",
    "   \n",
    "    \n",
    "    output = Cubic_Newton(Model, options, tol, maxiter, check);\n",
    "    xs.append(output['sol']);\n",
    "    rs.append(output['seq_res']);\n",
    "    ts.append(output['seq_time'])\n",
    "    fs.append(output['seq_fun']);\n",
    "    cols.append((0.1,0.1,0.6,1));\n",
    "    legs.append('Cubic Newton');\n",
    "    nams.append('Cubic Newton');"
   ]
  },
  {
   "cell_type": "code",
   "execution_count": 15,
   "id": "ea7f0844",
   "metadata": {},
   "outputs": [
    {
     "name": "stdout",
     "output_type": "stream",
     "text": [
      "\n",
      "********************************************************\n",
      "***Grad Newton **\n",
      "***********\n",
      "iter:10, funValue:16293.795604,fun:16293.795604\n",
      "iter:20, funValue:5107.288493,fun:5107.288493\n",
      "iter:30, funValue:1024.314869,fun:1024.314869\n",
      "iter:40, funValue:77.184972,fun:77.184972\n",
      "iter:50, funValue:0.667306,fun:0.667306\n",
      "iter:60, funValue:0.529911,fun:0.529911\n",
      "iter:70, funValue:0.529911,fun:0.529911\n",
      "iter:80, funValue:0.529911,fun:0.529911\n",
      "Tolerence value reached\n"
     ]
    }
   ],
   "source": [
    "#####################################################################\n",
    "if run_grad_Newton:\n",
    "    \n",
    "    print('');\n",
    "    print('********************************************************');\n",
    "    print('***Grad Newton **');\n",
    "    print('***********');\n",
    "    \n",
    "    options = {\n",
    "        'init':          x0,\n",
    "        'stepsize':      stepsize,\n",
    "        'storeResidual': True,\n",
    "        'storePoints'  : False,\n",
    "        'storeObjective':True,\n",
    "        'correction':  True,\n",
    "        \n",
    "    }\n",
    "\n",
    "   \n",
    "    \n",
    "    output = grad_Newton(Model, options, tol, maxiter, check);\n",
    "    xs.append(output['sol']);\n",
    "    rs.append(output['seq_res']);\n",
    "    ts.append(output['seq_time'])\n",
    "\n",
    "    fs.append(output['seq_fun']);\n",
    "    cols.append((0.1,0.1,0,1));\n",
    "    legs.append('Grad Newton');\n",
    "    nams.append('Grad Newton');"
   ]
  },
  {
   "cell_type": "code",
   "execution_count": 16,
   "id": "466d0e6b",
   "metadata": {},
   "outputs": [
    {
     "name": "stdout",
     "output_type": "stream",
     "text": [
      "\n",
      "********************************************************\n",
      "***Cubic SR1 **\n",
      "***********\n",
      "iter:10, funValue:23383.815077,fun:23383.815077\n",
      "iter:20, funValue:12963.940269,fun:12963.940269\n",
      "iter:30, funValue:6498.844730,fun:6498.844730\n",
      "iter:40, funValue:2826.965227,fun:2826.965227\n",
      "iter:50, funValue:992.147053,fun:992.147053\n",
      "iter:60, funValue:242.405120,fun:242.405120\n",
      "iter:70, funValue:28.769324,fun:28.769324\n",
      "iter:80, funValue:1.324042,fun:1.324042\n",
      "iter:90, funValue:0.700340,fun:0.700340\n",
      "iter:100, funValue:0.530997,fun:0.530997\n",
      "iter:110, funValue:0.529911,fun:0.529911\n",
      "iter:120, funValue:0.529911,fun:0.529911\n",
      "iter:130, funValue:0.529911,fun:0.529911\n",
      "Tolerence value reached\n"
     ]
    }
   ],
   "source": [
    "#####################################################################\n",
    "if run_Cubic_SR1:\n",
    "    \n",
    "    print('');\n",
    "    print('********************************************************');\n",
    "    print('***Cubic SR1 **');\n",
    "    print('***********');\n",
    "    \n",
    "    options = {\n",
    "        'init':          x0,\n",
    "        'stepsize':      stepsize,\n",
    "        'storeResidual': True,\n",
    "        'storePoints'  : False,\n",
    "        'storeObjective':True,\n",
    "        'correction':  True,\n",
    "        \n",
    "    }\n",
    "\n",
    "   \n",
    "    \n",
    "    output = Cubic_SR1(Model, options, tol, maxiter, check);\n",
    "    xs.append(output['sol']);\n",
    "    rs.append(output['seq_res']);\n",
    "    ts.append(output['seq_time'])\n",
    "\n",
    "    fs.append(output['seq_fun']);\n",
    "    cols.append((0.8,0.5,0.6,1));\n",
    "    legs.append('Cubic SR1 PQN');\n",
    "    nams.append('Cubic SR1 PQN');"
   ]
  },
  {
   "cell_type": "code",
   "execution_count": 17,
   "id": "92b30909",
   "metadata": {},
   "outputs": [
    {
     "name": "stdout",
     "output_type": "stream",
     "text": [
      "\n",
      "********************************************************\n",
      "***Gradient reg SR1 ***\n",
      "***********\n",
      "*****number of iterations***\n",
      "1\n",
      "iter:10, funValue:0.529911,fun:0.529911\n",
      "*****number of iterations***\n",
      "11\n",
      "iter:20, funValue:0.529911,fun:0.529911\n",
      "Tolerence value reached\n",
      "num_restart= 2\n"
     ]
    }
   ],
   "source": [
    "\n",
    "#####################################################################\n",
    "if run_grad_SR1:\n",
    "    \n",
    "    print('');\n",
    "    print('********************************************************');\n",
    "    print('***Gradient reg SR1 ***');\n",
    "    print('***********');\n",
    "    \n",
    "    options = {\n",
    "        'init':          x0,\n",
    "        'stepsize':      stepsize,\n",
    "        'storeResidual': True,\n",
    "        'storePoints'  : False,\n",
    "        'storeObjective':True,\n",
    "        \n",
    "    }\n",
    "\n",
    "   \n",
    "    \n",
    "    output = Grad_SR1(Model, options, tol, maxiter, check);\n",
    "    xs.append(output['sol']);\n",
    "    rs.append(output['seq_res']);\n",
    "    ts.append(output['seq_time'])\n",
    "\n",
    "    fs.append(output['seq_fun']);\n",
    "    cols.append((0.8,0.1,0,1));\n",
    "    legs.append('Grad SR1 PQN');\n",
    "    nams.append('Grad SR1 PQN');"
   ]
  },
  {
   "cell_type": "code",
   "execution_count": 18,
   "id": "e2934773",
   "metadata": {},
   "outputs": [
    {
     "name": "stdout",
     "output_type": "stream",
     "text": [
      "\n",
      "********************************************************\n",
      "***Accelerated ***\n",
      "***********\n",
      "iter:10, time:1729090444.322389, tau:0.535898,fun:0.534591\n",
      "iter:20, time:1729090444.361274, tau:0.535898,fun:0.529911\n",
      "iter:30, time:1729090444.394406, tau:0.535898,fun:0.529911\n",
      "iter:40, time:1729090444.429440, tau:0.535898,fun:0.529911\n",
      "iter:50, time:1729090444.464509, tau:0.535898,fun:0.529911\n",
      "Tolerence value reached\n"
     ]
    }
   ],
   "source": [
    "if run_HBF:\n",
    "    \n",
    "    print('');\n",
    "    print('********************************************************');\n",
    "    print('***Accelerated ***');\n",
    "    print('***********');\n",
    "    \n",
    "    options = {\n",
    "        'init':          x0,\n",
    "        'stepsize':      stepsize,\n",
    "        'storeResidual': True,\n",
    "        'storePoints'  : False,\n",
    "        'storeObjective':True,\n",
    "        'storeTime'     : True,\n",
    "        \n",
    "        'storeBeta' : False,\n",
    "    }\n",
    "\n",
    "   \n",
    "    \n",
    "    output = HBF(Model, options, tol, maxiter, check);\n",
    "    xs.append(output['sol']);\n",
    "    rs.append(output['seq_res']);\n",
    "    ts.append(output['seq_time']);\n",
    "    \n",
    "    fs.append(output['seq_obj']);\n",
    "    \n",
    "    cols.append((0.4,0.5,0,1));\n",
    "    legs.append('HBF');\n",
    "    nams.append('HBF');"
   ]
  },
  {
   "cell_type": "code",
   "execution_count": 19,
   "id": "da060c7e",
   "metadata": {},
   "outputs": [
    {
     "name": "stdout",
     "output_type": "stream",
     "text": [
      "\n",
      "********************************************************\n",
      "***Gradient  ***\n",
      "***********\n",
      "iter:10, time:1729090445.536113, tau:0.166667,fun:1044.871273\n",
      "iter:20, time:1729090445.574421, tau:0.166667,fun:27.475291\n",
      "iter:30, time:1729090445.607412, tau:0.166667,fun:1.216667\n",
      "iter:40, time:1729090445.641184, tau:0.166667,fun:0.547347\n",
      "iter:50, time:1729090445.673517, tau:0.166667,fun:0.530355\n",
      "iter:60, time:1729090445.709512, tau:0.166667,fun:0.529923\n",
      "iter:70, time:1729090445.743861, tau:0.166667,fun:0.529912\n",
      "iter:80, time:1729090445.777443, tau:0.166667,fun:0.529911\n",
      "iter:90, time:1729090445.815312, tau:0.166667,fun:0.529911\n",
      "iter:100, time:1729090445.847486, tau:0.166667,fun:0.529911\n",
      "iter:110, time:1729090445.881473, tau:0.166667,fun:0.529911\n",
      "iter:120, time:1729090445.914559, tau:0.166667,fun:0.529911\n",
      "iter:130, time:1729090445.949659, tau:0.166667,fun:0.529911\n",
      "iter:140, time:1729090445.983523, tau:0.166667,fun:0.529911\n",
      "iter:150, time:1729090446.018003, tau:0.166667,fun:0.529911\n",
      "iter:160, time:1729090446.055138, tau:0.166667,fun:0.529911\n",
      "iter:170, time:1729090446.087801, tau:0.166667,fun:0.529911\n",
      "iter:180, time:1729090446.124886, tau:0.166667,fun:0.529911\n",
      "iter:190, time:1729090446.157034, tau:0.166667,fun:0.529911\n",
      "Tolerence value reached\n"
     ]
    }
   ],
   "source": [
    "if run_gd:\n",
    "    \n",
    "    print('');\n",
    "    print('********************************************************');\n",
    "    print('***Gradient  ***');\n",
    "    print('***********');\n",
    "    \n",
    "    options = {\n",
    "        'init':          x0,\n",
    "        'stepsize':      stepsize,\n",
    "        'storeResidual': True,\n",
    "        'storePoints'  : False,\n",
    "        'storeObjective':True,\n",
    "        'storeTime'     : True,\n",
    "        \n",
    "        'storeBeta' : False\n",
    "    }\n",
    "\n",
    "   \n",
    "    \n",
    "    output = gd(Model, options, tol, maxiter, check);\n",
    "    xs.append(output['sol']);\n",
    "    rs.append(output['seq_res']);\n",
    "    ts.append(output['seq_time'])\n",
    "\n",
    "    fs.append(output['seq_obj']);\n",
    "    cols.append((0.4,0.2,0,1));\n",
    "    legs.append('GD');\n",
    "    nams.append('GD');"
   ]
  },
  {
   "cell_type": "code",
   "execution_count": 20,
   "id": "a65d028f",
   "metadata": {
    "scrolled": true
   },
   "outputs": [
    {
     "data": {
      "image/png": "[encoded data removed]",
      "text/plain": [
       "<Figure size 432x288 with 1 Axes>"
      ]
     },
     "metadata": {
      "needs_background": "light"
     },
     "output_type": "display_data"
    },
    {
     "data": {
      "text/plain": [
       "<Figure size 432x288 with 0 Axes>"
      ]
     },
     "metadata": {},
     "output_type": "display_data"
    }
   ],
   "source": [
    "#nalgs = len(rs);\n",
    "nalgs = len(rs);\n",
    "\n",
    "# plotting\n",
    "fig1 = plt.figure();\n",
    "for i in range(0,nalgs):\n",
    "    iterations = np.arange(0,len(rs[i])-1,1)\n",
    "\n",
    "    plt.plot(iterations, rs[i][0:-1], '-', color=cols[i], linewidth=2);\n",
    "    #plt.plot(iterations,fs[i][1:-1], '-', color=cols[i], linewidth=2);\n",
    "\n",
    "plt.legend(legs);\n",
    "plt.yscale('log');\n",
    "plt.xscale('log');\n",
    "\n",
    "#plt.xlabel('seq_time')\n",
    "plt.xlabel('Iterations')\n",
    "plt.ylabel('Norm of the gradient');\n",
    "plt.title('Logistic regression')\n",
    "plt.savefig('AllAlgorithmLogistic(PQNOct16).pdf')\n",
    "\n",
    "plt.show();\n",
    "plt.draw();\n"
   ]
  },
  {
   "cell_type": "code",
   "execution_count": 21,
   "id": "6ab04ad8",
   "metadata": {},
   "outputs": [
    {
     "data": {
      "image/png": "[encoded data removed]",
      "text/plain": [
       "<Figure size 432x288 with 1 Axes>"
      ]
     },
     "metadata": {
      "needs_background": "light"
     },
     "output_type": "display_data"
    },
    {
     "data": {
      "text/plain": [
       "<Figure size 432x288 with 0 Axes>"
      ]
     },
     "metadata": {},
     "output_type": "display_data"
    }
   ],
   "source": [
    "#nalgs = len(rs);\n",
    "nalgs = len(rs);\n",
    "# plotting\n",
    "fig1 = plt.figure();\n",
    "for i in range(0,nalgs):\n",
    "    plt.plot(ts[i][0:-1], rs[i][0:-1], '-', color=cols[i], linewidth=2);\n",
    "    #plt.plot(iterations,fs[i][1:-1], '-', color=cols[i], linewidth=2);\n",
    "\n",
    "plt.legend(legs);\n",
    "plt.yscale('log');\n",
    "plt.xscale('log');\n",
    "\n",
    "plt.xlabel('Time')\n",
    "# plt.xlabel('seq_iter')\n",
    "plt.ylabel('Norm of the gradient');\n",
    "plt.title('Logistic regression')\n",
    "plt.savefig('AllAlgorithmLogistic(PQN)(timeOct16).pdf')\n",
    "\n",
    "plt.show();\n",
    "plt.draw();"
   ]
  },
  {
   "cell_type": "code",
   "execution_count": null,
   "id": "e6bdcce5",
   "metadata": {},
   "outputs": [],
   "source": []
  }
 ],
 "metadata": {
  "kernelspec": {
   "display_name": "Python 3",
   "language": "python",
   "name": "python3"
  },
  "language_info": {
   "codemirror_mode": {
    "name": "ipython",
    "version": 3
   },
   "file_extension": ".py",
   "mimetype": "text/x-python",
   "name": "python",
   "nbconvert_exporter": "python",
   "pygments_lexer": "ipython3",
   "version": "3.8.8"
  }
 },
 "nbformat": 4,
 "nbformat_minor": 5
}
